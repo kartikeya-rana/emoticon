{
  "nbformat": 4,
  "nbformat_minor": 0,
  "metadata": {
    "kernelspec": {
      "name": "python3",
      "display_name": "Python 3"
    },
    "language_info": {
      "codemirror_mode": {
        "name": "ipython",
        "version": 3
      },
      "file_extension": ".py",
      "mimetype": "text/x-python",
      "name": "python",
      "nbconvert_exporter": "python",
      "pygments_lexer": "ipython3",
      "version": "3.7.6"
    },
    "colab": {
      "name": "emoticon_01.ipynb",
      "provenance": [],
      "collapsed_sections": [],
      "toc_visible": true
    },
    "accelerator": "GPU",
    "widgets": {
      "application/vnd.jupyter.widget-state+json": {
        "4b3d2a5b717a44cd8db094c9763f79d9": {
          "model_module": "@jupyter-widgets/controls",
          "model_name": "HBoxModel",
          "state": {
            "_view_name": "HBoxView",
            "_dom_classes": [],
            "_model_name": "HBoxModel",
            "_view_module": "@jupyter-widgets/controls",
            "_model_module_version": "1.5.0",
            "_view_count": null,
            "_view_module_version": "1.5.0",
            "box_style": "",
            "layout": "IPY_MODEL_918cf28a714147afb3544235fd7516bd",
            "_model_module": "@jupyter-widgets/controls",
            "children": [
              "IPY_MODEL_112df42c331a4fa39456b3987978f495",
              "IPY_MODEL_be0f47a68817415c9aee0e6744ec5cd4"
            ]
          }
        },
        "918cf28a714147afb3544235fd7516bd": {
          "model_module": "@jupyter-widgets/base",
          "model_name": "LayoutModel",
          "state": {
            "_view_name": "LayoutView",
            "grid_template_rows": null,
            "right": null,
            "justify_content": null,
            "_view_module": "@jupyter-widgets/base",
            "overflow": null,
            "_model_module_version": "1.2.0",
            "_view_count": null,
            "flex_flow": null,
            "width": null,
            "min_width": null,
            "border": null,
            "align_items": null,
            "bottom": null,
            "_model_module": "@jupyter-widgets/base",
            "top": null,
            "grid_column": null,
            "overflow_y": null,
            "overflow_x": null,
            "grid_auto_flow": null,
            "grid_area": null,
            "grid_template_columns": null,
            "flex": null,
            "_model_name": "LayoutModel",
            "justify_items": null,
            "grid_row": null,
            "max_height": null,
            "align_content": null,
            "visibility": null,
            "align_self": null,
            "height": null,
            "min_height": null,
            "padding": null,
            "grid_auto_rows": null,
            "grid_gap": null,
            "max_width": null,
            "order": null,
            "_view_module_version": "1.2.0",
            "grid_template_areas": null,
            "object_position": null,
            "object_fit": null,
            "grid_auto_columns": null,
            "margin": null,
            "display": null,
            "left": null
          }
        },
        "112df42c331a4fa39456b3987978f495": {
          "model_module": "@jupyter-widgets/controls",
          "model_name": "IntProgressModel",
          "state": {
            "_view_name": "ProgressView",
            "style": "IPY_MODEL_32b3e4e55e2d4a499d1b84bd79dfdaf5",
            "_dom_classes": [],
            "description": "100%",
            "_model_name": "IntProgressModel",
            "bar_style": "success",
            "max": 102502400,
            "_view_module": "@jupyter-widgets/controls",
            "_model_module_version": "1.5.0",
            "value": 102502400,
            "_view_count": null,
            "_view_module_version": "1.5.0",
            "orientation": "horizontal",
            "min": 0,
            "description_tooltip": null,
            "_model_module": "@jupyter-widgets/controls",
            "layout": "IPY_MODEL_4546a4ee562d43ab8a160469e7951dc1"
          }
        },
        "be0f47a68817415c9aee0e6744ec5cd4": {
          "model_module": "@jupyter-widgets/controls",
          "model_name": "HTMLModel",
          "state": {
            "_view_name": "HTMLView",
            "style": "IPY_MODEL_21308bf10619490bb53904cc66c6aaaa",
            "_dom_classes": [],
            "description": "",
            "_model_name": "HTMLModel",
            "placeholder": "​",
            "_view_module": "@jupyter-widgets/controls",
            "_model_module_version": "1.5.0",
            "value": " 97.8M/97.8M [06:17&lt;00:00, 271kB/s]",
            "_view_count": null,
            "_view_module_version": "1.5.0",
            "description_tooltip": null,
            "_model_module": "@jupyter-widgets/controls",
            "layout": "IPY_MODEL_381c42b6f58445a3beaa6ab2f00450f1"
          }
        },
        "32b3e4e55e2d4a499d1b84bd79dfdaf5": {
          "model_module": "@jupyter-widgets/controls",
          "model_name": "ProgressStyleModel",
          "state": {
            "_view_name": "StyleView",
            "_model_name": "ProgressStyleModel",
            "description_width": "initial",
            "_view_module": "@jupyter-widgets/base",
            "_model_module_version": "1.5.0",
            "_view_count": null,
            "_view_module_version": "1.2.0",
            "bar_color": null,
            "_model_module": "@jupyter-widgets/controls"
          }
        },
        "4546a4ee562d43ab8a160469e7951dc1": {
          "model_module": "@jupyter-widgets/base",
          "model_name": "LayoutModel",
          "state": {
            "_view_name": "LayoutView",
            "grid_template_rows": null,
            "right": null,
            "justify_content": null,
            "_view_module": "@jupyter-widgets/base",
            "overflow": null,
            "_model_module_version": "1.2.0",
            "_view_count": null,
            "flex_flow": null,
            "width": null,
            "min_width": null,
            "border": null,
            "align_items": null,
            "bottom": null,
            "_model_module": "@jupyter-widgets/base",
            "top": null,
            "grid_column": null,
            "overflow_y": null,
            "overflow_x": null,
            "grid_auto_flow": null,
            "grid_area": null,
            "grid_template_columns": null,
            "flex": null,
            "_model_name": "LayoutModel",
            "justify_items": null,
            "grid_row": null,
            "max_height": null,
            "align_content": null,
            "visibility": null,
            "align_self": null,
            "height": null,
            "min_height": null,
            "padding": null,
            "grid_auto_rows": null,
            "grid_gap": null,
            "max_width": null,
            "order": null,
            "_view_module_version": "1.2.0",
            "grid_template_areas": null,
            "object_position": null,
            "object_fit": null,
            "grid_auto_columns": null,
            "margin": null,
            "display": null,
            "left": null
          }
        },
        "21308bf10619490bb53904cc66c6aaaa": {
          "model_module": "@jupyter-widgets/controls",
          "model_name": "DescriptionStyleModel",
          "state": {
            "_view_name": "StyleView",
            "_model_name": "DescriptionStyleModel",
            "description_width": "",
            "_view_module": "@jupyter-widgets/base",
            "_model_module_version": "1.5.0",
            "_view_count": null,
            "_view_module_version": "1.2.0",
            "_model_module": "@jupyter-widgets/controls"
          }
        },
        "381c42b6f58445a3beaa6ab2f00450f1": {
          "model_module": "@jupyter-widgets/base",
          "model_name": "LayoutModel",
          "state": {
            "_view_name": "LayoutView",
            "grid_template_rows": null,
            "right": null,
            "justify_content": null,
            "_view_module": "@jupyter-widgets/base",
            "overflow": null,
            "_model_module_version": "1.2.0",
            "_view_count": null,
            "flex_flow": null,
            "width": null,
            "min_width": null,
            "border": null,
            "align_items": null,
            "bottom": null,
            "_model_module": "@jupyter-widgets/base",
            "top": null,
            "grid_column": null,
            "overflow_y": null,
            "overflow_x": null,
            "grid_auto_flow": null,
            "grid_area": null,
            "grid_template_columns": null,
            "flex": null,
            "_model_name": "LayoutModel",
            "justify_items": null,
            "grid_row": null,
            "max_height": null,
            "align_content": null,
            "visibility": null,
            "align_self": null,
            "height": null,
            "min_height": null,
            "padding": null,
            "grid_auto_rows": null,
            "grid_gap": null,
            "max_width": null,
            "order": null,
            "_view_module_version": "1.2.0",
            "grid_template_areas": null,
            "object_position": null,
            "object_fit": null,
            "grid_auto_columns": null,
            "margin": null,
            "display": null,
            "left": null
          }
        }
      }
    }
  },
  "cells": [
    {
      "cell_type": "markdown",
      "metadata": {
        "id": "C83q8nf7Q3v_",
        "colab_type": "text"
      },
      "source": [
        "# **Use Google Colab for faster model training**"
      ]
    },
    {
      "cell_type": "code",
      "metadata": {
        "id": "fP9t6VoTu83G",
        "colab_type": "code",
        "colab": {}
      },
      "source": [
        "# Mount google drive\n",
        "\n",
        "from google.colab import drive\n",
        "drive.mount('/content/gdrive')"
      ],
      "execution_count": 0,
      "outputs": []
    },
    {
      "cell_type": "code",
      "metadata": {
        "id": "INaAchlmvKgI",
        "colab_type": "code",
        "colab": {}
      },
      "source": [
        "# Unzip the datasets. Change the paths to your location.\n",
        "!unzip gdrive/My\\ Drive/emoticon/data_cropped.zip\n",
        "!unzip gdrive/My\\ Drive/emoticon/test.zip"
      ],
      "execution_count": 0,
      "outputs": []
    },
    {
      "cell_type": "code",
      "metadata": {
        "id": "jYOzYonq6Xz6",
        "colab_type": "code",
        "outputId": "94a5a18d-2680-4eeb-847f-ca2264df1628",
        "colab": {
          "base_uri": "https://localhost:8080/",
          "height": 139
        }
      },
      "source": [
        "# Install triplpet loss\n",
        "!pip install online_triplet_loss"
      ],
      "execution_count": 4,
      "outputs": [
        {
          "output_type": "stream",
          "text": [
            "Collecting online_triplet_loss\n",
            "  Downloading https://files.pythonhosted.org/packages/21/f1/054a1228eb7d9d12ea98fa2d0d52ad9698c72af002d1ac1ee1016897e62c/online_triplet_loss-0.0.4-py3-none-any.whl\n",
            "Requirement already satisfied: torch>=1.1.0 in /usr/local/lib/python3.6/dist-packages (from online_triplet_loss) (1.4.0)\n",
            "Requirement already satisfied: numpy>=1.15.4 in /usr/local/lib/python3.6/dist-packages (from online_triplet_loss) (1.18.2)\n",
            "Installing collected packages: online-triplet-loss\n",
            "Successfully installed online-triplet-loss-0.0.4\n"
          ],
          "name": "stdout"
        }
      ]
    },
    {
      "cell_type": "code",
      "metadata": {
        "id": "WMkjNsTEusjp",
        "colab_type": "code",
        "colab": {}
      },
      "source": [
        "# import libraries\n",
        "import torch.cuda\n",
        "import numpy as np\n",
        "import torch.nn as nn\n",
        "import torch.nn.functional as F\n",
        "from torch.utils.data.dataset import Dataset\n",
        "from torchvision import transforms\n",
        "from torch.utils.data import DataLoader\n",
        "import csv\n",
        "from PIL import Image\n",
        "import IPython.display as ipd\n",
        "from torch.utils.data.sampler import SubsetRandomSampler\n",
        "import torchvision\n",
        "import logging\n",
        "from online_triplet_loss.losses import *\n",
        "\n",
        "CUDA_LAUNCH_BLOCKING=\"1\""
      ],
      "execution_count": 0,
      "outputs": []
    },
    {
      "cell_type": "code",
      "metadata": {
        "id": "7tOTk5MNusj8",
        "colab_type": "code",
        "outputId": "a47aa69c-5661-4999-81d2-a26ec5f91b10",
        "colab": {
          "base_uri": "https://localhost:8080/",
          "height": 34
        }
      },
      "source": [
        "device = torch.device('cuda' if torch.cuda.is_available() else 'cpu')\n",
        "device"
      ],
      "execution_count": 6,
      "outputs": [
        {
          "output_type": "execute_result",
          "data": {
            "text/plain": [
              "device(type='cuda')"
            ]
          },
          "metadata": {
            "tags": []
          },
          "execution_count": 6
        }
      ]
    },
    {
      "cell_type": "code",
      "metadata": {
        "id": "4_6_IOjGuskD",
        "colab_type": "code",
        "colab": {}
      },
      "source": [
        "BATCH_SIZE = 64\n",
        "random_seed= 42"
      ],
      "execution_count": 0,
      "outputs": []
    },
    {
      "cell_type": "code",
      "metadata": {
        "id": "yARt7Cx4uskL",
        "colab_type": "code",
        "colab": {}
      },
      "source": [
        "#Training path\n",
        "FOLDER_DATASET = \"data_cropped/\"\n",
        "tracks_labels = \"data_cropped/labels.csv\" #File containing images' path and labels\n",
        "\n",
        "#Testing path\n",
        "FOLDER_DATASET_TEST = \"test/\"\n",
        "tracks_labels_test = \"test/test_labels.csv\" #File containing images' path and labels"
      ],
      "execution_count": 0,
      "outputs": []
    },
    {
      "cell_type": "code",
      "metadata": {
        "id": "9Ewc7FbVuskY",
        "colab_type": "code",
        "colab": {}
      },
      "source": [
        "# Class for loading dataset\n",
        "\n",
        "class Data(Dataset):\n",
        "    def __init__(self, folder_dataset, label_file, transform = None):\n",
        "        self.features = []\n",
        "        self.labels = []\n",
        "        self.transform = transform\n",
        "        \n",
        "        with open(label_file) as f:\n",
        "            reader = csv.reader(f, delimiter=',')\n",
        "            for line in reader:\n",
        "                #Image path\n",
        "                self.features.append(folder_dataset + line[0])\n",
        "                #labels\n",
        "                self.labels.append(np.int32(line[1]))\n",
        "\n",
        "        \n",
        "                \n",
        "    #override to give pytorch access to any image\n",
        "    def __getitem__(self,index):\n",
        "        img = Image.open(self.features[index])\n",
        "        img = img.convert('RGB')\n",
        "        img = img.resize((224,224))\n",
        "        if self.transform is not None:\n",
        "            img = self.transform(img)\n",
        "        \n",
        "        # Convert image and label to torch tensors\n",
        "        img = torch.from_numpy(np.asarray(img))\n",
        "        label = torch.from_numpy(np.asarray(self.labels[index]))\n",
        "        return img, label\n",
        "    \n",
        "    # Override to give PyTorch size of dataset\n",
        "    def __len__(self):\n",
        "        return len(self.labels)"
      ],
      "execution_count": 0,
      "outputs": []
    },
    {
      "cell_type": "code",
      "metadata": {
        "id": "DQJv7k4vuskd",
        "colab_type": "code",
        "colab": {}
      },
      "source": [
        "transform = transforms.Compose([\n",
        "    transforms.ToTensor(),\n",
        "    transforms.Normalize(mean=[0.485, 0.456, 0.406],\n",
        "                        std=[0.229, 0.224, 0.225])\n",
        "])\n",
        "dset_train = Data(FOLDER_DATASET, tracks_labels,  transform)\n",
        "dataset_train = DataLoader(dset_train, batch_size=BATCH_SIZE, shuffle=True, num_workers=1)\n",
        "\n",
        "dset_test = Data(FOLDER_DATASET_TEST, tracks_labels_test, transform)\n",
        "dataset_test = DataLoader(dset_test, batch_size=1, shuffle=False, num_workers=1)"
      ],
      "execution_count": 0,
      "outputs": []
    },
    {
      "cell_type": "code",
      "metadata": {
        "colab_type": "code",
        "outputId": "c7936720-51bf-4aef-ef72-8837f655229a",
        "id": "C1ukfJY9oZQa",
        "colab": {
          "base_uri": "https://localhost:8080/",
          "height": 103,
          "referenced_widgets": [
            "4b3d2a5b717a44cd8db094c9763f79d9",
            "918cf28a714147afb3544235fd7516bd",
            "112df42c331a4fa39456b3987978f495",
            "be0f47a68817415c9aee0e6744ec5cd4",
            "32b3e4e55e2d4a499d1b84bd79dfdaf5",
            "4546a4ee562d43ab8a160469e7951dc1",
            "21308bf10619490bb53904cc66c6aaaa",
            "381c42b6f58445a3beaa6ab2f00450f1"
          ]
        }
      },
      "source": [
        "resnet = torchvision.models.resnet50(pretrained=True)\n",
        "\n",
        "# Freeze the layers of resnet model\n",
        "for param in resnet.parameters():\n",
        "    param.requires_grad = False"
      ],
      "execution_count": 11,
      "outputs": [
        {
          "output_type": "stream",
          "text": [
            "Downloading: \"https://download.pytorch.org/models/resnet50-19c8e357.pth\" to /root/.cache/torch/checkpoints/resnet50-19c8e357.pth\n"
          ],
          "name": "stderr"
        },
        {
          "output_type": "display_data",
          "data": {
            "application/vnd.jupyter.widget-view+json": {
              "model_id": "4b3d2a5b717a44cd8db094c9763f79d9",
              "version_minor": 0,
              "version_major": 2
            },
            "text/plain": [
              "HBox(children=(IntProgress(value=0, max=102502400), HTML(value='')))"
            ]
          },
          "metadata": {
            "tags": []
          }
        },
        {
          "output_type": "stream",
          "text": [
            "\n"
          ],
          "name": "stdout"
        }
      ]
    },
    {
      "cell_type": "code",
      "metadata": {
        "id": "GSruBVGXm2Hm",
        "colab_type": "code",
        "colab": {}
      },
      "source": [
        "# new final layer with 128 vector\n",
        "num_ftrs = resnet.fc.in_features\n",
        "resnet.fc = torch.nn.Linear(num_ftrs, 128)\n",
        "resnet = resnet.to(device)"
      ],
      "execution_count": 0,
      "outputs": []
    },
    {
      "cell_type": "code",
      "metadata": {
        "id": "Y-05QkfPuslJ",
        "colab_type": "code",
        "colab": {}
      },
      "source": [
        "import torch.optim as optim\n",
        "optimizer = torch.optim.SGD(resnet.fc.parameters(), lr=0.0001, momentum=0.9)"
      ],
      "execution_count": 0,
      "outputs": []
    },
    {
      "cell_type": "code",
      "metadata": {
        "id": "-lDjanx8xJhp",
        "colab_type": "code",
        "colab": {}
      },
      "source": [
        "# Empty lists to store training loss and test accuracy\n",
        "train_losses = []\n",
        "test_accs = []"
      ],
      "execution_count": 0,
      "outputs": []
    },
    {
      "cell_type": "code",
      "metadata": {
        "id": "eD0v_PBtedIE",
        "colab_type": "code",
        "colab": {}
      },
      "source": [
        "def create_db():\n",
        "  \"\"\"\n",
        "  Create the database with images from training dataset and save the 128 vector embedding for each image.\n",
        "  emotion_0.png = label 0 (laughing)\n",
        "  emotion_1.png = label 1 (love)\n",
        "  emotion_2.png = label 2 (laughing)\n",
        "  emotion_3.png = label 3 (Mind-Blown)\n",
        "  emotion_4.png = label 4 (Amazed)\n",
        "  emotion_5.png = label 5 (Sad)\n",
        "\n",
        "  \"\"\"\n",
        "  db = []\n",
        "\n",
        "  for i in range(0, 6):\n",
        "    img = Image.open(\"data_cropped/emotion_\" + str(i) + \".png\")\n",
        "    img = img.convert('RGB')\n",
        "    img = img.resize((224,224))\n",
        "    #         print(\"image shape : \", img.size)\n",
        "    img = transform(img)\n",
        "    img = img.view(1, 3, 224, 224)\n",
        "    test_out = resnet(img.to(device))\n",
        "\n",
        "    db.append(test_out)\n",
        "\n",
        "  return db"
      ],
      "execution_count": 0,
      "outputs": []
    },
    {
      "cell_type": "code",
      "metadata": {
        "id": "lxWb_BJRuslV",
        "colab_type": "code",
        "outputId": "d7230d53-cfe4-429c-9456-24eb933e4050",
        "colab": {
          "base_uri": "https://localhost:8080/",
          "height": 1000
        }
      },
      "source": [
        "n_epoch = 50\n",
        "\n",
        "valid_loss_min = np.Inf\n",
        "\n",
        "for epoch in range(1, n_epoch + 1):\n",
        "    \n",
        "    train_loss = 0.0\n",
        "    \n",
        "    # Start training\n",
        "    resnet.train()\n",
        "    for data,target in dataset_train:\n",
        "        \n",
        "        data = data.to(device)\n",
        "        target = target.to(device)  \n",
        "        optimizer.zero_grad()\n",
        "        outputs = resnet(data)\n",
        "\n",
        "        # Create triplets and calculate triplet loss\n",
        "        loss = batch_hard_triplet_loss(target, outputs, margin=2, device='cuda')\n",
        "        loss.backward()\n",
        "        train_loss += loss.cpu().item()\n",
        "\n",
        "        optimizer.step()\n",
        "        _, prediction = torch.max(outputs.data, 1)\n",
        "   \n",
        "    train_loss = train_loss/len(dataset_train)\n",
        "\n",
        "    # Add to list to plot the loss chart   \n",
        "    train_losses.append(train_loss)\n",
        "\n",
        "    print('\\n\\nEpoch: {} \\tTraining Loss: {:.6f}'.format(\n",
        "        epoch, train_loss))\n",
        "\n",
        "\n",
        "    # Create DB\n",
        "    db = create_db()\n",
        "\n",
        "    test_acc = 0\n",
        "    resnet.eval()\n",
        "    for data, target in dataset_test:\n",
        "        \n",
        "        data = data.to(device)\n",
        "        output = resnet(data)\n",
        "        \n",
        "        distances = []\n",
        "\n",
        "        for i in range(6):\n",
        "          # Euclidean distance\n",
        "          dist = torch.sqrt(torch.pow(output - db[i],2).sum(dim=1))\n",
        "          distances.append(dist)\n",
        "\n",
        "        # Get the index of that image which has minimum euclidean distance.        \n",
        "        index = distances.index(min(distances))\n",
        "\n",
        "        if target == index:\n",
        "          test_acc += 1\n",
        "\n",
        "    test_acc = test_acc/len(dataset_test.dataset)\n",
        "\n",
        "    print('Epoch: {} \\tTest Accuracy: {:.6f}'.format(\n",
        "        epoch, test_acc))\n",
        "    \n",
        "    test_accs.append(test_acc)\n",
        "    "
      ],
      "execution_count": 16,
      "outputs": [
        {
          "output_type": "stream",
          "text": [
            "\n",
            "\n",
            "Epoch: 1 \tTraining Loss: 2.405069\n",
            "Epoch: 1 \tTest Accuracy: 0.428571\n",
            "\n",
            "\n",
            "Epoch: 2 \tTraining Loss: 2.333082\n",
            "Epoch: 2 \tTest Accuracy: 0.452381\n",
            "\n",
            "\n",
            "Epoch: 3 \tTraining Loss: 2.238603\n",
            "Epoch: 3 \tTest Accuracy: 0.500000\n",
            "\n",
            "\n",
            "Epoch: 4 \tTraining Loss: 2.107782\n",
            "Epoch: 4 \tTest Accuracy: 0.523810\n",
            "\n",
            "\n",
            "Epoch: 5 \tTraining Loss: 2.008163\n",
            "Epoch: 5 \tTest Accuracy: 0.571429\n",
            "\n",
            "\n",
            "Epoch: 6 \tTraining Loss: 1.913656\n",
            "Epoch: 6 \tTest Accuracy: 0.619048\n",
            "\n",
            "\n",
            "Epoch: 7 \tTraining Loss: 1.800403\n",
            "Epoch: 7 \tTest Accuracy: 0.642857\n",
            "\n",
            "\n",
            "Epoch: 8 \tTraining Loss: 1.690839\n",
            "Epoch: 8 \tTest Accuracy: 0.642857\n",
            "\n",
            "\n",
            "Epoch: 9 \tTraining Loss: 1.603296\n",
            "Epoch: 9 \tTest Accuracy: 0.666667\n",
            "\n",
            "\n",
            "Epoch: 10 \tTraining Loss: 1.506870\n",
            "Epoch: 10 \tTest Accuracy: 0.738095\n",
            "\n",
            "\n",
            "Epoch: 11 \tTraining Loss: 1.406963\n",
            "Epoch: 11 \tTest Accuracy: 0.738095\n",
            "\n",
            "\n",
            "Epoch: 12 \tTraining Loss: 1.313421\n",
            "Epoch: 12 \tTest Accuracy: 0.785714\n",
            "\n",
            "\n",
            "Epoch: 13 \tTraining Loss: 1.226007\n",
            "Epoch: 13 \tTest Accuracy: 0.833333\n",
            "\n",
            "\n",
            "Epoch: 14 \tTraining Loss: 1.142003\n",
            "Epoch: 14 \tTest Accuracy: 0.857143\n",
            "\n",
            "\n",
            "Epoch: 15 \tTraining Loss: 1.029453\n",
            "Epoch: 15 \tTest Accuracy: 0.880952\n",
            "\n",
            "\n",
            "Epoch: 16 \tTraining Loss: 0.941251\n",
            "Epoch: 16 \tTest Accuracy: 0.928571\n",
            "\n",
            "\n",
            "Epoch: 17 \tTraining Loss: 0.853543\n",
            "Epoch: 17 \tTest Accuracy: 0.952381\n",
            "\n",
            "\n",
            "Epoch: 18 \tTraining Loss: 0.773018\n",
            "Epoch: 18 \tTest Accuracy: 0.952381\n",
            "\n",
            "\n",
            "Epoch: 19 \tTraining Loss: 0.706565\n",
            "Epoch: 19 \tTest Accuracy: 0.952381\n",
            "\n",
            "\n",
            "Epoch: 20 \tTraining Loss: 0.651781\n",
            "Epoch: 20 \tTest Accuracy: 0.952381\n",
            "\n",
            "\n",
            "Epoch: 21 \tTraining Loss: 0.575787\n",
            "Epoch: 21 \tTest Accuracy: 0.952381\n",
            "\n",
            "\n",
            "Epoch: 22 \tTraining Loss: 0.477004\n",
            "Epoch: 22 \tTest Accuracy: 0.952381\n",
            "\n",
            "\n",
            "Epoch: 23 \tTraining Loss: 0.458847\n",
            "Epoch: 23 \tTest Accuracy: 0.952381\n",
            "\n",
            "\n",
            "Epoch: 24 \tTraining Loss: 0.402299\n",
            "Epoch: 24 \tTest Accuracy: 0.952381\n",
            "\n",
            "\n",
            "Epoch: 25 \tTraining Loss: 0.365353\n",
            "Epoch: 25 \tTest Accuracy: 0.952381\n",
            "\n",
            "\n",
            "Epoch: 26 \tTraining Loss: 0.308435\n",
            "Epoch: 26 \tTest Accuracy: 0.952381\n",
            "\n",
            "\n",
            "Epoch: 27 \tTraining Loss: 0.272948\n",
            "Epoch: 27 \tTest Accuracy: 0.952381\n",
            "\n",
            "\n",
            "Epoch: 28 \tTraining Loss: 0.239741\n",
            "Epoch: 28 \tTest Accuracy: 0.952381\n",
            "\n",
            "\n",
            "Epoch: 29 \tTraining Loss: 0.207949\n",
            "Epoch: 29 \tTest Accuracy: 0.952381\n",
            "\n",
            "\n",
            "Epoch: 30 \tTraining Loss: 0.173733\n",
            "Epoch: 30 \tTest Accuracy: 0.952381\n",
            "\n",
            "\n",
            "Epoch: 31 \tTraining Loss: 0.153365\n",
            "Epoch: 31 \tTest Accuracy: 0.952381\n",
            "\n",
            "\n",
            "Epoch: 32 \tTraining Loss: 0.141454\n",
            "Epoch: 32 \tTest Accuracy: 0.976190\n",
            "\n",
            "\n",
            "Epoch: 33 \tTraining Loss: 0.145882\n",
            "Epoch: 33 \tTest Accuracy: 0.952381\n",
            "\n",
            "\n",
            "Epoch: 34 \tTraining Loss: 0.117820\n",
            "Epoch: 34 \tTest Accuracy: 0.952381\n",
            "\n",
            "\n",
            "Epoch: 35 \tTraining Loss: 0.106494\n",
            "Epoch: 35 \tTest Accuracy: 0.976190\n",
            "\n",
            "\n",
            "Epoch: 36 \tTraining Loss: 0.091378\n",
            "Epoch: 36 \tTest Accuracy: 0.976190\n",
            "\n",
            "\n",
            "Epoch: 37 \tTraining Loss: 0.089019\n",
            "Epoch: 37 \tTest Accuracy: 0.976190\n",
            "\n",
            "\n",
            "Epoch: 38 \tTraining Loss: 0.088106\n",
            "Epoch: 38 \tTest Accuracy: 0.976190\n",
            "\n",
            "\n",
            "Epoch: 39 \tTraining Loss: 0.083024\n",
            "Epoch: 39 \tTest Accuracy: 0.976190\n",
            "\n",
            "\n",
            "Epoch: 40 \tTraining Loss: 0.086726\n",
            "Epoch: 40 \tTest Accuracy: 0.976190\n",
            "\n",
            "\n",
            "Epoch: 41 \tTraining Loss: 0.053973\n",
            "Epoch: 41 \tTest Accuracy: 0.976190\n",
            "\n",
            "\n",
            "Epoch: 42 \tTraining Loss: 0.058249\n",
            "Epoch: 42 \tTest Accuracy: 0.976190\n",
            "\n",
            "\n",
            "Epoch: 43 \tTraining Loss: 0.064956\n",
            "Epoch: 43 \tTest Accuracy: 0.976190\n",
            "\n",
            "\n",
            "Epoch: 44 \tTraining Loss: 0.063239\n",
            "Epoch: 44 \tTest Accuracy: 0.976190\n",
            "\n",
            "\n",
            "Epoch: 45 \tTraining Loss: 0.057421\n",
            "Epoch: 45 \tTest Accuracy: 0.976190\n",
            "\n",
            "\n",
            "Epoch: 46 \tTraining Loss: 0.062568\n",
            "Epoch: 46 \tTest Accuracy: 0.976190\n",
            "\n",
            "\n",
            "Epoch: 47 \tTraining Loss: 0.053045\n",
            "Epoch: 47 \tTest Accuracy: 0.976190\n",
            "\n",
            "\n",
            "Epoch: 48 \tTraining Loss: 0.040330\n",
            "Epoch: 48 \tTest Accuracy: 0.976190\n",
            "\n",
            "\n",
            "Epoch: 49 \tTraining Loss: 0.046540\n",
            "Epoch: 49 \tTest Accuracy: 0.976190\n",
            "\n",
            "\n",
            "Epoch: 50 \tTraining Loss: 0.035701\n",
            "Epoch: 50 \tTest Accuracy: 1.000000\n"
          ],
          "name": "stdout"
        }
      ]
    },
    {
      "cell_type": "code",
      "metadata": {
        "id": "xfYZ9cFfzKa6",
        "colab_type": "code",
        "colab": {}
      },
      "source": [
        "import matplotlib.pyplot as plt"
      ],
      "execution_count": 0,
      "outputs": []
    },
    {
      "cell_type": "code",
      "metadata": {
        "id": "TZQeffiFy5tX",
        "colab_type": "code",
        "colab": {
          "base_uri": "https://localhost:8080/",
          "height": 295
        },
        "outputId": "ee045e9c-95e8-4ddb-9ca6-dfad91e9581b"
      },
      "source": [
        "plt.plot(train_losses, label = \"Training Loss\") \n",
        "plt.xlabel('Epoch') \n",
        "plt.title('Traning loss') \n",
        "  \n",
        "# show a legend on the plot \n",
        "plt.legend() \n",
        "  \n",
        "# function to show the plot \n",
        "plt.show()"
      ],
      "execution_count": 21,
      "outputs": [
        {
          "output_type": "display_data",
          "data": {
            "image/png": "[encoded data removed]",
            "text/plain": [
              "<Figure size 432x288 with 1 Axes>"
            ]
          },
          "metadata": {
            "tags": [],
            "needs_background": "light"
          }
        }
      ]
    },
    {
      "cell_type": "code",
      "metadata": {
        "id": "nWvXK76ATxqm",
        "colab_type": "code",
        "colab": {
          "base_uri": "https://localhost:8080/",
          "height": 295
        },
        "outputId": "ec4cab42-9462-4469-9c5d-3e9e280c331f"
      },
      "source": [
        "plt.plot(test_accs, label = \"Test accuracy\") \n",
        "plt.xlabel('Epoch') \n",
        "plt.title('Test Accuracy') \n",
        "  \n",
        "# show a legend on the plot \n",
        "plt.legend() \n",
        "  \n",
        "# function to show the plot \n",
        "plt.show()"
      ],
      "execution_count": 22,
      "outputs": [
        {
          "output_type": "display_data",
          "data": {
            "image/png": "[encoded data removed]",
            "text/plain": [
              "<Figure size 432x288 with 1 Axes>"
            ]
          },
          "metadata": {
            "tags": [],
            "needs_background": "light"
          }
        }
      ]
    }
  ]
}